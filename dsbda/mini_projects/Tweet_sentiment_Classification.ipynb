{
  "metadata": {
    "kernelspec": {
      "language": "python",
      "display_name": "Python 3",
      "name": "python3"
    },
    "language_info": {
      "pygments_lexer": "ipython3",
      "nbconvert_exporter": "python",
      "version": "3.6.4",
      "file_extension": ".py",
      "codemirror_mode": {
        "name": "ipython",
        "version": 3
      },
      "name": "python",
      "mimetype": "text/x-python"
    },
    "colab": {
      "name": "Tweet sentiment Classification",
      "provenance": [],
      "include_colab_link": true
    }
  },
  "nbformat_minor": 0,
  "nbformat": 4,
  "cells": [
    {
      "cell_type": "markdown",
      "metadata": {
        "id": "view-in-github",
        "colab_type": "text"
      },
      "source": [
        "<a href=\"https://colab.research.google.com/github/adv-11/TE-COMP/blob/main/dsbda/mini_projects/Tweet_sentiment_Classification.ipynb\" target=\"_parent\"><img src=\"https://colab.research.google.com/assets/colab-badge.svg\" alt=\"Open In Colab\"/></a>"
      ]
    },
    {
      "cell_type": "code",
      "source": [
        "import numpy as np\n",
        "import pandas as pd\n"
      ],
      "metadata": {
        "_uuid": "8f2839f25d086af736a60e9eeb907d3b93b6e0e5",
        "_cell_guid": "b1076dfc-b9ad-4769-8c92-a6c4dae69d19",
        "execution": {
          "iopub.status.busy": "2022-05-16T11:09:31.19074Z",
          "iopub.execute_input": "2022-05-16T11:09:31.191114Z",
          "iopub.status.idle": "2022-05-16T11:09:31.219998Z",
          "shell.execute_reply.started": "2022-05-16T11:09:31.191051Z",
          "shell.execute_reply": "2022-05-16T11:09:31.219567Z"
        },
        "trusted": true,
        "id": "vTGiQuxEhijA"
      },
      "execution_count": 1,
      "outputs": []
    },
    {
      "cell_type": "code",
      "source": [
        "df = pd.read_csv('data_science.csv')"
      ],
      "metadata": {
        "execution": {
          "iopub.status.busy": "2022-05-16T11:09:31.233302Z",
          "iopub.execute_input": "2022-05-16T11:09:31.233628Z",
          "iopub.status.idle": "2022-05-16T11:09:34.778754Z",
          "shell.execute_reply.started": "2022-05-16T11:09:31.233593Z",
          "shell.execute_reply": "2022-05-16T11:09:34.777983Z"
        },
        "trusted": true,
        "id": "yDXvHV2qhijD",
        "outputId": "512d06c7-885c-4b65-c4b9-bf5232d68d93",
        "colab": {
          "base_uri": "https://localhost:8080/"
        }
      },
      "execution_count": 5,
      "outputs": [
        {
          "output_type": "stream",
          "name": "stderr",
          "text": [
            "<ipython-input-5-7e2393096752>:1: DtypeWarning: Columns (9) have mixed types. Specify dtype option on import or set low_memory=False.\n",
            "  df = pd.read_csv('data_science.csv')\n"
          ]
        }
      ]
    },
    {
      "cell_type": "code",
      "source": [
        "import numpy as np\n",
        "import pandas as pd\n",
        "import matplotlib.pyplot as plt\n",
        "import seaborn as sns\n",
        "from wordcloud import WordCloud"
      ],
      "metadata": {
        "execution": {
          "iopub.status.busy": "2022-05-16T11:09:34.780434Z",
          "iopub.execute_input": "2022-05-16T11:09:34.780662Z",
          "iopub.status.idle": "2022-05-16T11:09:34.786319Z",
          "shell.execute_reply.started": "2022-05-16T11:09:34.780632Z",
          "shell.execute_reply": "2022-05-16T11:09:34.785041Z"
        },
        "trusted": true,
        "id": "7E6lmw3YhijE"
      },
      "execution_count": 2,
      "outputs": []
    },
    {
      "cell_type": "code",
      "source": [
        "df.info()"
      ],
      "metadata": {
        "execution": {
          "iopub.status.busy": "2022-05-16T11:09:34.787544Z",
          "iopub.execute_input": "2022-05-16T11:09:34.787761Z",
          "iopub.status.idle": "2022-05-16T11:09:35.294728Z",
          "shell.execute_reply.started": "2022-05-16T11:09:34.787732Z",
          "shell.execute_reply": "2022-05-16T11:09:35.293989Z"
        },
        "trusted": true,
        "id": "tIr7GpNDhijE",
        "outputId": "eb455441-667e-4a92-e244-81a74d2dfe14",
        "colab": {
          "base_uri": "https://localhost:8080/"
        }
      },
      "execution_count": 6,
      "outputs": [
        {
          "output_type": "stream",
          "name": "stdout",
          "text": [
            "<class 'pandas.core.frame.DataFrame'>\n",
            "RangeIndex: 241386 entries, 0 to 241385\n",
            "Data columns (total 36 columns):\n",
            " #   Column           Non-Null Count   Dtype  \n",
            "---  ------           --------------   -----  \n",
            " 0   id               241386 non-null  int64  \n",
            " 1   conversation_id  241386 non-null  int64  \n",
            " 2   created_at       241386 non-null  object \n",
            " 3   date             241386 non-null  object \n",
            " 4   time             241386 non-null  object \n",
            " 5   timezone         241386 non-null  int64  \n",
            " 6   user_id          241386 non-null  int64  \n",
            " 7   username         241386 non-null  object \n",
            " 8   name             241386 non-null  object \n",
            " 9   place            354 non-null     object \n",
            " 10  tweet            241386 non-null  object \n",
            " 11  language         241386 non-null  object \n",
            " 12  mentions         241386 non-null  object \n",
            " 13  urls             241386 non-null  object \n",
            " 14  photos           241386 non-null  object \n",
            " 15  replies_count    241386 non-null  int64  \n",
            " 16  retweets_count   241386 non-null  int64  \n",
            " 17  likes_count      241386 non-null  int64  \n",
            " 18  hashtags         241386 non-null  object \n",
            " 19  cashtags         241386 non-null  object \n",
            " 20  link             241386 non-null  object \n",
            " 21  retweet          241386 non-null  bool   \n",
            " 22  quote_url        10321 non-null   object \n",
            " 23  video            241386 non-null  int64  \n",
            " 24  thumbnail        110338 non-null  object \n",
            " 25  near             0 non-null       float64\n",
            " 26  geo              0 non-null       float64\n",
            " 27  source           0 non-null       float64\n",
            " 28  user_rt_id       0 non-null       float64\n",
            " 29  user_rt          0 non-null       float64\n",
            " 30  retweet_id       0 non-null       float64\n",
            " 31  reply_to         241386 non-null  object \n",
            " 32  retweet_date     0 non-null       float64\n",
            " 33  translate        0 non-null       float64\n",
            " 34  trans_src        0 non-null       float64\n",
            " 35  trans_dest       0 non-null       float64\n",
            "dtypes: bool(1), float64(10), int64(8), object(17)\n",
            "memory usage: 64.7+ MB\n"
          ]
        }
      ]
    },
    {
      "cell_type": "code",
      "source": [
        "df.isnull().sum()"
      ],
      "metadata": {
        "execution": {
          "iopub.status.busy": "2022-05-16T11:09:35.296519Z",
          "iopub.execute_input": "2022-05-16T11:09:35.296728Z",
          "iopub.status.idle": "2022-05-16T11:09:35.783215Z",
          "shell.execute_reply.started": "2022-05-16T11:09:35.2967Z",
          "shell.execute_reply": "2022-05-16T11:09:35.781905Z"
        },
        "trusted": true,
        "id": "QLh0ygiIhijE",
        "outputId": "188e7326-b7e4-40b1-e6ce-0675632ebd70",
        "colab": {
          "base_uri": "https://localhost:8080/"
        }
      },
      "execution_count": 7,
      "outputs": [
        {
          "output_type": "execute_result",
          "data": {
            "text/plain": [
              "id                      0\n",
              "conversation_id         0\n",
              "created_at              0\n",
              "date                    0\n",
              "time                    0\n",
              "timezone                0\n",
              "user_id                 0\n",
              "username                0\n",
              "name                    0\n",
              "place              241032\n",
              "tweet                   0\n",
              "language                0\n",
              "mentions                0\n",
              "urls                    0\n",
              "photos                  0\n",
              "replies_count           0\n",
              "retweets_count          0\n",
              "likes_count             0\n",
              "hashtags                0\n",
              "cashtags                0\n",
              "link                    0\n",
              "retweet                 0\n",
              "quote_url          231065\n",
              "video                   0\n",
              "thumbnail          131048\n",
              "near               241386\n",
              "geo                241386\n",
              "source             241386\n",
              "user_rt_id         241386\n",
              "user_rt            241386\n",
              "retweet_id         241386\n",
              "reply_to                0\n",
              "retweet_date       241386\n",
              "translate          241386\n",
              "trans_src          241386\n",
              "trans_dest         241386\n",
              "dtype: int64"
            ]
          },
          "metadata": {},
          "execution_count": 7
        }
      ]
    },
    {
      "cell_type": "markdown",
      "source": [
        "Dropping coulmns with most of the Null values"
      ],
      "metadata": {
        "id": "8oznG5bphijE"
      }
    },
    {
      "cell_type": "code",
      "source": [
        "df.drop(['place','quote_url','thumbnail','near','geo','source','user_rt_id','user_rt','retweet_id','retweet_date','translate','trans_src','trans_dest'],axis=1,inplace=True)"
      ],
      "metadata": {
        "execution": {
          "iopub.status.busy": "2022-05-16T11:09:35.784219Z",
          "iopub.execute_input": "2022-05-16T11:09:35.784397Z",
          "iopub.status.idle": "2022-05-16T11:09:35.86548Z",
          "shell.execute_reply.started": "2022-05-16T11:09:35.784374Z",
          "shell.execute_reply": "2022-05-16T11:09:35.864693Z"
        },
        "trusted": true,
        "id": "Grm1oGoMhijF"
      },
      "execution_count": 8,
      "outputs": []
    },
    {
      "cell_type": "code",
      "source": [
        "df.isnull().sum()"
      ],
      "metadata": {
        "execution": {
          "iopub.status.busy": "2022-05-16T11:09:35.866636Z",
          "iopub.execute_input": "2022-05-16T11:09:35.866803Z",
          "iopub.status.idle": "2022-05-16T11:09:36.062135Z",
          "shell.execute_reply.started": "2022-05-16T11:09:35.866782Z",
          "shell.execute_reply": "2022-05-16T11:09:36.061322Z"
        },
        "trusted": true,
        "id": "BZmMOaR_hijG",
        "outputId": "707f3db3-32ab-428b-bce1-1d9a51bd639f",
        "colab": {
          "base_uri": "https://localhost:8080/"
        }
      },
      "execution_count": 9,
      "outputs": [
        {
          "output_type": "execute_result",
          "data": {
            "text/plain": [
              "id                 0\n",
              "conversation_id    0\n",
              "created_at         0\n",
              "date               0\n",
              "time               0\n",
              "timezone           0\n",
              "user_id            0\n",
              "username           0\n",
              "name               0\n",
              "tweet              0\n",
              "language           0\n",
              "mentions           0\n",
              "urls               0\n",
              "photos             0\n",
              "replies_count      0\n",
              "retweets_count     0\n",
              "likes_count        0\n",
              "hashtags           0\n",
              "cashtags           0\n",
              "link               0\n",
              "retweet            0\n",
              "video              0\n",
              "reply_to           0\n",
              "dtype: int64"
            ]
          },
          "metadata": {},
          "execution_count": 9
        }
      ]
    },
    {
      "cell_type": "markdown",
      "source": [
        " view the date the tweets have been made"
      ],
      "metadata": {
        "id": "_3LucmE2hijG"
      }
    },
    {
      "cell_type": "code",
      "source": [
        "df['year'] = pd.DatetimeIndex(df['date']).year\n",
        "sns.countplot(x ='year', data = df)\n",
        "plt.show()\n"
      ],
      "metadata": {
        "execution": {
          "iopub.status.busy": "2022-05-16T11:19:37.652221Z",
          "iopub.execute_input": "2022-05-16T11:19:37.65314Z",
          "iopub.status.idle": "2022-05-16T11:19:38.120538Z",
          "shell.execute_reply.started": "2022-05-16T11:19:37.653065Z",
          "shell.execute_reply": "2022-05-16T11:19:38.119637Z"
        },
        "trusted": true,
        "id": "4ZxjtyIVhijG",
        "outputId": "6ae1d9d3-d6e1-41bb-a7e1-3a48f7e488b9",
        "colab": {
          "base_uri": "https://localhost:8080/",
          "height": 449
        }
      },
      "execution_count": 11,
      "outputs": [
        {
          "output_type": "display_data",
          "data": {
            "text/plain": [
              "<Figure size 640x480 with 1 Axes>"
            ],
            "image/png": "[encoded data removed]"
          },
          "metadata": {}
        }
      ]
    },
    {
      "cell_type": "markdown",
      "source": [
        "Text Preprocessing"
      ],
      "metadata": {
        "id": "7IB-oXiohijH"
      }
    },
    {
      "cell_type": "code",
      "source": [
        "\n",
        "import nltk\n",
        "import re\n",
        "import string\n",
        "from nltk.corpus import stopwords\n",
        "nltk.download('punkt')\n",
        "nltk.download('stopwords')\n",
        "from nltk.tokenize import word_tokenize\n",
        "\n",
        "stop_words = stopwords.words()"
      ],
      "metadata": {
        "execution": {
          "iopub.status.busy": "2022-05-16T11:09:36.590178Z",
          "iopub.execute_input": "2022-05-16T11:09:36.590583Z",
          "iopub.status.idle": "2022-05-16T11:10:16.664942Z",
          "shell.execute_reply.started": "2022-05-16T11:09:36.590554Z",
          "shell.execute_reply": "2022-05-16T11:10:16.664175Z"
        },
        "trusted": true,
        "id": "hkE5BJh-hijH",
        "outputId": "bef0cf90-5f18-4c2d-f1b8-a3ee92d325f5",
        "colab": {
          "base_uri": "https://localhost:8080/"
        }
      },
      "execution_count": 12,
      "outputs": [
        {
          "output_type": "stream",
          "name": "stderr",
          "text": [
            "[nltk_data] Downloading package punkt to /root/nltk_data...\n",
            "[nltk_data]   Unzipping tokenizers/punkt.zip.\n",
            "[nltk_data] Downloading package stopwords to /root/nltk_data...\n",
            "[nltk_data]   Unzipping corpora/stopwords.zip.\n"
          ]
        }
      ]
    },
    {
      "cell_type": "markdown",
      "source": [
        "Stop words are commonly used words that are filtered out or excluded from text processing and analysis because they are considered to have little or no significance in determining the meaning of a document. These words are so frequent in a language that they do not add much value to the analysis and can even introduce noise."
      ],
      "metadata": {
        "id": "GhEf6FAmoyzf"
      }
    },
    {
      "cell_type": "code",
      "source": [
        "stop_words[0]"
      ],
      "metadata": {
        "id": "ep1NpCk3obv8",
        "outputId": "ce0d3026-1e8d-49dc-b50e-1b6691bab66e",
        "colab": {
          "base_uri": "https://localhost:8080/",
          "height": 36
        }
      },
      "execution_count": 16,
      "outputs": [
        {
          "output_type": "execute_result",
          "data": {
            "text/plain": [
              "'إذ'"
            ],
            "application/vnd.google.colaboratory.intrinsic+json": {
              "type": "string"
            }
          },
          "metadata": {},
          "execution_count": 16
        }
      ]
    },
    {
      "cell_type": "code",
      "source": [
        "# Apostrophe Dictionary\n",
        "apostrophe_dict = {\n",
        "\"ain't\": \"am not / are not\",\n",
        "\"aren't\": \"are not / am not\",\n",
        "\"can't\": \"cannot\",\n",
        "\"can't've\": \"cannot have\",\n",
        "\"'cause\": \"because\",\n",
        "\"could've\": \"could have\",\n",
        "\"couldn't\": \"could not\",\n",
        "\"couldn't've\": \"could not have\",\n",
        "\"didn't\": \"did not\",\n",
        "\"doesn't\": \"does not\",\n",
        "\"don't\": \"do not\",\n",
        "\"hadn't\": \"had not\",\n",
        "\"hadn't've\": \"had not have\",\n",
        "\"hasn't\": \"has not\",\n",
        "\"haven't\": \"have not\",\n",
        "\"he'd\": \"he had / he would\",\n",
        "\"he'd've\": \"he would have\",\n",
        "\"he'll\": \"he shall / he will\",\n",
        "\"he'll've\": \"he shall have / he will have\",\n",
        "\"he's\": \"he has / he is\",\n",
        "\"how'd\": \"how did\",\n",
        "\"how'd'y\": \"how do you\",\n",
        "\"how'll\": \"how will\",\n",
        "\"how's\": \"how has / how is\",\n",
        "\"i'd\": \"I had / I would\",\n",
        "\"i'd've\": \"I would have\",\n",
        "\"i'll\": \"I shall / I will\",\n",
        "\"i'll've\": \"I shall have / I will have\",\n",
        "\"i'm\": \"I am\",\n",
        "\"i've\": \"I have\",\n",
        "\"isn't\": \"is not\",\n",
        "\"it'd\": \"it had / it would\",\n",
        "\"it'd've\": \"it would have\",\n",
        "\"it'll\": \"it shall / it will\",\n",
        "\"it'll've\": \"it shall have / it will have\",\n",
        "\"it's\": \"it has / it is\",\n",
        "\"let's\": \"let us\",\n",
        "\"ma'am\": \"madam\",\n",
        "\"mayn't\": \"may not\",\n",
        "\"might've\": \"might have\",\n",
        "\"mightn't\": \"might not\",\n",
        "\"mightn't've\": \"might not have\",\n",
        "\"must've\": \"must have\",\n",
        "\"mustn't\": \"must not\",\n",
        "\"mustn't've\": \"must not have\",\n",
        "\"needn't\": \"need not\",\n",
        "\"needn't've\": \"need not have\",\n",
        "\"o'clock\": \"of the clock\",\n",
        "\"oughtn't\": \"ought not\",\n",
        "\"oughtn't've\": \"ought not have\",\n",
        "\"shan't\": \"shall not\",\n",
        "\"sha'n't\": \"shall not\",\n",
        "\"shan't've\": \"shall not have\",\n",
        "\"she'd\": \"she had / she would\",\n",
        "\"she'd've\": \"she would have\",\n",
        "\"she'll\": \"she shall / she will\",\n",
        "\"she'll've\": \"she shall have / she will have\",\n",
        "\"she's\": \"she has / she is\",\n",
        "\"should've\": \"should have\",\n",
        "\"shouldn't\": \"should not\",\n",
        "\"shouldn't've\": \"should not have\",\n",
        "\"so've\": \"so have\",\n",
        "\"so's\": \"so as / so is\",\n",
        "\"that'd\": \"that would / that had\",\n",
        "\"that'd've\": \"that would have\",\n",
        "\"that's\": \"that has / that is\",\n",
        "\"there'd\": \"there had / there would\",\n",
        "\"there'd've\": \"there would have\",\n",
        "\"there's\": \"there has / there is\",\n",
        "\"they'd\": \"they had / they would\",\n",
        "\"they'd've\": \"they would have\",\n",
        "\"they'll\": \"they shall / they will\",\n",
        "\"they'll've\": \"they shall have / they will have\",\n",
        "\"they're\": \"they are\",\n",
        "\"they've\": \"they have\",\n",
        "\"to've\": \"to have\",\n",
        "\"wasn't\": \"was not\",\n",
        "\"we'd\": \"we had / we would\",\n",
        "\"we'd've\": \"we would have\",\n",
        "\"we'll\": \"we will\",\n",
        "\"we'll've\": \"we will have\",\n",
        "\"we're\": \"we are\",\n",
        "\"we've\": \"we have\",\n",
        "\"weren't\": \"were not\",\n",
        "\"what'll\": \"what shall / what will\",\n",
        "\"what'll've\": \"what shall have / what will have\",\n",
        "\"what're\": \"what are\",\n",
        "\"what's\": \"what has / what is\",\n",
        "\"what've\": \"what have\",\n",
        "\"when's\": \"when has / when is\",\n",
        "\"when've\": \"when have\",\n",
        "\"where'd\": \"where did\",\n",
        "\"where's\": \"where has / where is\",\n",
        "\"where've\": \"where have\",\n",
        "\"who'll\": \"who shall / who will\",\n",
        "\"who'll've\": \"who shall have / who will have\",\n",
        "\"who's\": \"who has / who is\",\n",
        "\"who've\": \"who have\",\n",
        "\"why's\": \"why has / why is\",\n",
        "\"why've\": \"why have\",\n",
        "\"will've\": \"will have\",\n",
        "\"won't\": \"will not\",\n",
        "\"won't've\": \"will not have\",\n",
        "\"would've\": \"would have\",\n",
        "\"wouldn't\": \"would not\",\n",
        "\"wouldn't've\": \"would not have\",\n",
        "\"y'all\": \"you all\",\n",
        "\"y'all'd\": \"you all would\",\n",
        "\"y'all'd've\": \"you all would have\",\n",
        "\"y'all're\": \"you all are\",\n",
        "\"y'all've\": \"you all have\",\n",
        "\"you'd\": \"you had / you would\",\n",
        "\"you'd've\": \"you would have\",\n",
        "\"you'll\": \"you shall / you will\",\n",
        "\"you'll've\": \"you shall have / you will have\",\n",
        "\"you're\": \"you are\",\n",
        "\"you've\": \"you have\",\n",
        "\"rt\":\"\",\n",
        "\"RT\":\"\",\n",
        "\"http\":\"\",\n",
        "\"https\":\"\"\n",
        "}\n",
        "\n",
        "def lookup_dict(text, dictionary):\n",
        "    for word in str(text).split():\n",
        "        if word.lower() in dictionary:\n",
        "            if word.lower() in str(text).split():\n",
        "                text = text.replace(word, dictionary[word.lower()])\n",
        "    return text\n",
        "\n",
        "df['tweet'] = df['tweet'].apply(lambda x: lookup_dict(x,apostrophe_dict))"
      ],
      "metadata": {
        "execution": {
          "iopub.status.busy": "2022-05-16T11:10:16.665983Z",
          "iopub.execute_input": "2022-05-16T11:10:16.666203Z",
          "iopub.status.idle": "2022-05-16T11:10:18.027583Z",
          "shell.execute_reply.started": "2022-05-16T11:10:16.666181Z",
          "shell.execute_reply": "2022-05-16T11:10:18.027118Z"
        },
        "trusted": true,
        "id": "xeAAu0eyhijH"
      },
      "execution_count": 17,
      "outputs": []
    },
    {
      "cell_type": "code",
      "source": [
        "df.drop(['id','conversation_id',\n",
        "'created_at',\n",
        "'time',\n",
        "'timezone','user_id','username','name','language','mentions','urls',\n",
        "'photos','replies_count','retweets_count','likes_count','hashtags','link','retweet','video','reply_to','cashtags'],axis=1,inplace=True)"
      ],
      "metadata": {
        "execution": {
          "iopub.status.busy": "2022-05-16T11:10:18.029496Z",
          "iopub.execute_input": "2022-05-16T11:10:18.029767Z",
          "iopub.status.idle": "2022-05-16T11:10:18.100582Z",
          "shell.execute_reply.started": "2022-05-16T11:10:18.029746Z",
          "shell.execute_reply": "2022-05-16T11:10:18.100127Z"
        },
        "trusted": true,
        "id": "jS_pzWRZhijI"
      },
      "execution_count": 18,
      "outputs": []
    },
    {
      "cell_type": "code",
      "source": [
        "df.info()"
      ],
      "metadata": {
        "id": "4loOp2GAo-dG",
        "outputId": "f4578945-8dc1-4d49-f4d3-4e484ff84395",
        "colab": {
          "base_uri": "https://localhost:8080/"
        }
      },
      "execution_count": 19,
      "outputs": [
        {
          "output_type": "stream",
          "name": "stdout",
          "text": [
            "<class 'pandas.core.frame.DataFrame'>\n",
            "RangeIndex: 241386 entries, 0 to 241385\n",
            "Data columns (total 4 columns):\n",
            " #   Column  Non-Null Count   Dtype \n",
            "---  ------  --------------   ----- \n",
            " 0   date    241386 non-null  object\n",
            " 1   tweet   241386 non-null  object\n",
            " 2   year    241386 non-null  int32 \n",
            " 3   month   241386 non-null  int32 \n",
            "dtypes: int32(2), object(2)\n",
            "memory usage: 5.5+ MB\n"
          ]
        }
      ]
    },
    {
      "cell_type": "markdown",
      "source": [
        "Tokenization is the process of breaking down a text document into smaller units, called tokens. These tokens are usually words, phrases, symbols, or other meaningful elements that can be used as building blocks for further analysis in natural language processing (NLP) tasks."
      ],
      "metadata": {
        "id": "ASmT4bk0pMki"
      }
    },
    {
      "cell_type": "code",
      "source": [
        "# Creating token for the clean tweets\n",
        "df['tweet'] =df['tweet'].apply(lambda x: word_tokenize(str(x)))\n",
        "\n",
        "#remove stop words\n",
        "stop_words = set(stopwords.words('english'))\n",
        "# Created new columns of tokens - where stop words are being removed\n",
        "df['tweet'] = df['tweet'].apply(lambda x: [word for word in x if not word in stop_words])\n",
        "\n"
      ],
      "metadata": {
        "execution": {
          "iopub.status.busy": "2022-05-16T11:10:18.101637Z",
          "iopub.execute_input": "2022-05-16T11:10:18.101818Z",
          "iopub.status.idle": "2022-05-16T11:12:11.980544Z",
          "shell.execute_reply.started": "2022-05-16T11:10:18.101793Z",
          "shell.execute_reply": "2022-05-16T11:12:11.979913Z"
        },
        "trusted": true,
        "id": "Ymr73kKxhijI"
      },
      "execution_count": 20,
      "outputs": []
    },
    {
      "cell_type": "code",
      "source": [
        "def cleaning(text):\n",
        "    # converting to lowercase, removing URL links, special characters, punctuations...\n",
        "    text = str(text)\n",
        "    text = text.lower()\n",
        "    text = re.sub('https?://\\S+|www\\.\\S+', '', text)\n",
        "    text = re.sub('<.*?>+', '', text)\n",
        "    text = re.sub('[%s]' % re.escape(string.punctuation), '', text)\n",
        "    text = re.sub('\\n', '', text)\n",
        "    text = re.sub('[’“”…]', '', text)\n",
        "\n",
        "    # removing the emojies\n",
        "    emoji_pattern = re.compile(\"[\"\n",
        "                           u\"\\U0001F600-\\U0001F64F\"  # emoticons\n",
        "                           u\"\\U0001F300-\\U0001F5FF\"  # symbols & pictographs\n",
        "                           u\"\\U0001F680-\\U0001F6FF\"  # transport & map symbols\n",
        "                           u\"\\U0001F1E0-\\U0001F1FF\"  # flags (iOS)\n",
        "                           u\"\\U00002702-\\U000027B0\"\n",
        "                           u\"\\U000024C2-\\U0001F251\"\n",
        "                           \"]+\", flags=re.UNICODE)\n",
        "    text = emoji_pattern.sub(r'', text)\n",
        "\n",
        "    # removing the stop-words\n",
        "    text_tokens = word_tokenize(text)\n",
        "    tokens_without_sw = [word for word in text_tokens if not word in stop_words]\n",
        "    filtered_sentence = (\" \").join(tokens_without_sw)\n",
        "    text = filtered_sentence\n",
        "\n",
        "    return text\n",
        "\n",
        "dt = df['tweet'].apply(cleaning)"
      ],
      "metadata": {
        "execution": {
          "iopub.status.busy": "2022-05-16T11:12:11.982209Z",
          "iopub.execute_input": "2022-05-16T11:12:11.982849Z",
          "iopub.status.idle": "2022-05-16T11:13:28.246779Z",
          "shell.execute_reply.started": "2022-05-16T11:12:11.982799Z",
          "shell.execute_reply": "2022-05-16T11:13:28.245832Z"
        },
        "trusted": true,
        "id": "uAs21nbYhijI"
      },
      "execution_count": 21,
      "outputs": []
    },
    {
      "cell_type": "markdown",
      "source": [
        "Getting sentiments of the tweets using TextBlob"
      ],
      "metadata": {
        "id": "kcRMMjYDhijJ"
      }
    },
    {
      "cell_type": "code",
      "source": [
        "#calculating sentiments\n",
        "from textblob import TextBlob\n",
        "def GetTextSubjectivity(txt):\n",
        "    txt=str(txt)\n",
        "    return TextBlob(txt).sentiment.subjectivity\n",
        "\n",
        "def GetTextPolarity(txt):\n",
        "    txt=str(txt)\n",
        "    return TextBlob(txt).sentiment.polarity\n",
        "\n",
        "df['Subjectivity'] = df['tweet'].apply(GetTextSubjectivity)\n",
        "df['Polarity'] = df['tweet'].apply(GetTextPolarity)\n",
        "\n",
        "def GetTextAnalysis(a):\n",
        "    if a<0:\n",
        "        return \"Negative\"\n",
        "    elif a==0:\n",
        "        return \"Neutral\"\n",
        "    else:\n",
        "        return \"Positive\"\n",
        "\n",
        "df[\"Score\"]=df['Polarity'].apply(GetTextAnalysis)"
      ],
      "metadata": {
        "execution": {
          "iopub.status.busy": "2022-05-16T11:13:28.261305Z",
          "iopub.execute_input": "2022-05-16T11:13:28.261471Z",
          "iopub.status.idle": "2022-05-16T11:19:12.585365Z",
          "shell.execute_reply.started": "2022-05-16T11:13:28.261449Z",
          "shell.execute_reply": "2022-05-16T11:19:12.584373Z"
        },
        "trusted": true,
        "id": "l5lAYcurhijJ"
      },
      "execution_count": 22,
      "outputs": []
    },
    {
      "cell_type": "code",
      "source": [
        "positive=df[df['Score']=='Positive']\n",
        "print (str(round(positive.shape[0]/(df.shape[0])*100)) + \"% Positive tweets\")\n",
        "pos = positive.shape[0]/(df.shape[0])*100\n",
        "\n",
        "negative=df[df['Score']=='Negative']\n",
        "print (str(round(negative.shape[0]/(df.shape[0])*100)) + \"% Negative tweets\")\n",
        "neg = negative.shape[0]/df.shape[0]*100\n",
        "\n",
        "neutral=df[df['Score']=='Neutral']\n",
        "print (str(round((neutral.shape[0])/(df.shape[0])*100)) + \"% neutral tweets\")\n",
        "neu = neutral.shape[0]/df.shape[0]*100"
      ],
      "metadata": {
        "execution": {
          "iopub.status.busy": "2022-05-16T11:19:12.587185Z",
          "iopub.execute_input": "2022-05-16T11:19:12.587407Z",
          "iopub.status.idle": "2022-05-16T11:19:12.706757Z",
          "shell.execute_reply.started": "2022-05-16T11:19:12.587379Z",
          "shell.execute_reply": "2022-05-16T11:19:12.706002Z"
        },
        "trusted": true,
        "id": "6iXPfXvAhijJ",
        "outputId": "a5b367eb-56c0-406d-bdbb-939634caa631",
        "colab": {
          "base_uri": "https://localhost:8080/"
        }
      },
      "execution_count": 23,
      "outputs": [
        {
          "output_type": "stream",
          "name": "stdout",
          "text": [
            "43% Positive tweets\n",
            "9% Negative tweets\n",
            "48% neutral tweets\n"
          ]
        }
      ]
    },
    {
      "cell_type": "code",
      "source": [
        "#viewing % posi , neg , neu tweets\n",
        "explode=(0.05,0,0)\n",
        "labels = 'positive','negative','neutral'\n",
        "sizes = [pos,neg,neu]\n",
        "colours=['green','red','yellow']\n",
        "plt.pie(sizes,explode=explode,colors=colours,autopct='%.2f%%',startangle=0)\n",
        "plt.title('Percentage of Sentiment in all Tweets \\n', fontsize=24)\n",
        "plt.legend(labels,loc=(-0.05,0.05),shadow=True)\n",
        "plt.axis('equal')"
      ],
      "metadata": {
        "execution": {
          "iopub.status.busy": "2022-05-16T11:19:12.708023Z",
          "iopub.execute_input": "2022-05-16T11:19:12.708349Z",
          "iopub.status.idle": "2022-05-16T11:19:12.820398Z",
          "shell.execute_reply.started": "2022-05-16T11:19:12.708322Z",
          "shell.execute_reply": "2022-05-16T11:19:12.819764Z"
        },
        "trusted": true,
        "id": "T7BbLUUIhijK",
        "outputId": "1ff584a7-78a5-40a0-a271-09523c68b99c",
        "colab": {
          "base_uri": "https://localhost:8080/",
          "height": 548
        }
      },
      "execution_count": 25,
      "outputs": [
        {
          "output_type": "execute_result",
          "data": {
            "text/plain": [
              "(-1.1005643806631593,\n",
              " 1.1118529108706732,\n",
              " -1.1024347031366621,\n",
              " 1.1511359089491953)"
            ]
          },
          "metadata": {},
          "execution_count": 25
        },
        {
          "output_type": "display_data",
          "data": {
            "text/plain": [
              "<Figure size 640x480 with 1 Axes>"
            ],
            "image/png": "[encoded data removed]"
          },
          "metadata": {}
        }
      ]
    },
    {
      "cell_type": "markdown",
      "source": [
        "Viewing most used words in tweets according to the sentiments"
      ],
      "metadata": {
        "id": "M77l1ll-hijK"
      }
    }
  ]
}