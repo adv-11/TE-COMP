{
 "cells": [
  {
   "cell_type": "code",
   "execution_count": 16,
   "id": "3e0da77f",
   "metadata": {},
   "outputs": [
    {
     "name": "stdout",
     "output_type": "stream",
     "text": [
      "A\n",
      "B\n",
      "D\n",
      "Goal node found!!\n",
      "bfs:\n",
      "A\n",
      "B\n",
      "E\n",
      "D\n",
      "C\n",
      "Goal node found!!\n"
     ]
    }
   ],
   "source": [
    "#dfs \n",
    "\n",
    "graph = { \n",
    "    'A' : ['B' , 'E'],\n",
    "    'B' : ['D' , 'C' , 'A'],\n",
    "    'C' : ['E' , 'D'],\n",
    "    'D' : ['C' , 'B'],\n",
    "    'E' : ['A', 'C']\n",
    "}\n",
    "visited = set()\n",
    "\n",
    "def dfs(visited, graph, s, goal_node):\n",
    "    if s not in visited:\n",
    "        print(s)\n",
    "        visited.add(s)\n",
    "        \n",
    "        if s == goal_node:\n",
    "            print('Goal node found!!')\n",
    "            return True  \n",
    "        \n",
    "        for child in graph[s]:\n",
    "            if dfs(visited, graph, child, goal_node):\n",
    "                return True \n",
    "\n",
    "    return False \n",
    "dfs(visited , graph , 'A' , 'D')\n",
    "\n",
    "#bfs\n",
    "\n",
    "vis =[]\n",
    "queue = []\n",
    "\n",
    "def bfs(vis, graph, s, goal_node):\n",
    "    vis.append(s)\n",
    "    queue = [s]\n",
    "    \n",
    "    while queue:\n",
    "        element = queue.pop(0)\n",
    "        print(element)\n",
    "        \n",
    "        if element == goal_node:\n",
    "            print('Goal node found!!')\n",
    "            return  \n",
    "        \n",
    "        for child in graph[element]:\n",
    "            if child not in vis:\n",
    "                vis.append(child)\n",
    "                queue.append(child)\n",
    "                \n",
    "\n",
    "print('bfs:')            \n",
    "bfs(vis , graph , 'A' ,'C')\n",
    "    \n",
    "    "
   ]
  },
  {
   "cell_type": "code",
   "execution_count": null,
   "id": "104f9fb0",
   "metadata": {},
   "outputs": [],
   "source": []
  }
 ],
 "metadata": {
  "kernelspec": {
   "display_name": "Python 3 (ipykernel)",
   "language": "python",
   "name": "python3"
  },
  "language_info": {
   "codemirror_mode": {
    "name": "ipython",
    "version": 3
   },
   "file_extension": ".py",
   "mimetype": "text/x-python",
   "name": "python",
   "nbconvert_exporter": "python",
   "pygments_lexer": "ipython3",
   "version": "3.9.13"
  }
 },
 "nbformat": 4,
 "nbformat_minor": 5
}
