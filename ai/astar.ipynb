{
  "nbformat": 4,
  "nbformat_minor": 0,
  "metadata": {
    "colab": {
      "provenance": [],
      "authorship_tag": "ABX9TyPZzFunWbLrenAiFMXa9VKG"
    },
    "kernelspec": {
      "name": "python3",
      "display_name": "Python 3"
    },
    "language_info": {
      "name": "python"
    }
  },
  "cells": [
    {
      "cell_type": "code",
      "execution_count": null,
      "metadata": {
        "colab": {
          "base_uri": "https://localhost:8080/"
        },
        "id": "8CuAnJLfqy4s",
        "outputId": "e65d9192-d9f5-4185-ccf8-56dfc9160e44"
      },
      "outputs": [
        {
          "output_type": "stream",
          "name": "stdout",
          "text": [
            "Path found: [1, 14, 26, 84, 94, 100]\n"
          ]
        }
      ],
      "source": [
        "# Define the board with snakes and ladders\n",
        "board = {\n",
        "    2: 38, 7: 14, 8: 31, 15: 26, 16: 6, 21: 42,\n",
        "    28: 84, 36: 44, 46: 25, 49: 11, 51: 67, 62: 19,\n",
        "    64: 60, 71: 91, 74: 53, 78: 98, 87: 94, 89: 68, 92: 88, 95: 75, 99: 80\n",
        "}\n",
        "\n",
        "# Define the heuristic function (distance from goal)\n",
        "def heuristic(node):\n",
        "    return 100 - node\n",
        "\n",
        "# Define the initial state and goal state\n",
        "start = 1\n",
        "goal = 100\n",
        "\n",
        "# Initialize the open list with the start node\n",
        "open_list = [(start, 0)]\n",
        "\n",
        "# Initialize the closed list\n",
        "closed_list = set()\n",
        "\n",
        "# Initialize the parent dictionary to keep track of the path\n",
        "parent = {}\n",
        "\n",
        "# Initialize the cost dictionary to keep track of the cost to reach each node\n",
        "cost = {start: 0}\n",
        "\n",
        "# A* algorithm\n",
        "while open_list:\n",
        "    # Get the node with the lowest cost from the open list\n",
        "    current_node, current_cost = min(open_list, key=lambda x: x[1])\n",
        "    open_list.remove((current_node, current_cost))\n",
        "\n",
        "    # Check if the current node is the goal\n",
        "    if current_node == goal:\n",
        "        # Reconstruct the path\n",
        "        path = []\n",
        "        while current_node in parent:\n",
        "            path.append(current_node)\n",
        "            current_node = parent[current_node]\n",
        "        path.append(start)\n",
        "        path.reverse()\n",
        "        print(\"Path found:\", path)\n",
        "        break\n",
        "\n",
        "    # Add the current node to the closed list\n",
        "    closed_list.add(current_node)\n",
        "\n",
        "    # Expand the current node\n",
        "    for i in range(1, 7):\n",
        "        next_node = current_node + i\n",
        "        if next_node in board:\n",
        "            next_node = board[next_node]  # If there's a snake or ladder, move to its destination\n",
        "\n",
        "        # Check if the next node is valid and not in the closed list\n",
        "        if next_node <= 100 and next_node not in closed_list:\n",
        "            # Calculate the cost to reach the next node\n",
        "            next_cost = current_cost + 1\n",
        "\n",
        "            # If the next node is not in the open list or the new cost is lower than the previous cost\n",
        "            if next_node not in cost or next_cost < cost[next_node]:\n",
        "                cost[next_node] = next_cost\n",
        "                parent[next_node] = current_node\n",
        "                open_list.append((next_node, next_cost + heuristic(next_node)))\n"
      ]
    },
    {
      "cell_type": "code",
      "source": [
        "!wget -O t190314329.ipynb https://raw.githubusercontent.com/adv-11/TE-COMP/main/ai/ai_all_codes.ipynb"
      ],
      "metadata": {
        "colab": {
          "base_uri": "https://localhost:8080/"
        },
        "id": "sszDPHYtlzyr",
        "outputId": "4367d403-517d-47fa-9dae-179af0a0526e"
      },
      "execution_count": 4,
      "outputs": [
        {
          "output_type": "stream",
          "name": "stdout",
          "text": [
            "--2024-05-06 06:34:59--  https://raw.githubusercontent.com/adv-11/TE-COMP/main/ai/ai_all_codes.ipynb\n",
            "Resolving raw.githubusercontent.com (raw.githubusercontent.com)... 185.199.108.133, 185.199.109.133, 185.199.110.133, ...\n",
            "Connecting to raw.githubusercontent.com (raw.githubusercontent.com)|185.199.108.133|:443... connected.\n",
            "HTTP request sent, awaiting response... 200 OK\n",
            "Length: 23306 (23K) [text/plain]\n",
            "Saving to: ‘t190314329.ipynb’\n",
            "\n",
            "\rt190314329.ipynb      0%[                    ]       0  --.-KB/s               \rt190314329.ipynb    100%[===================>]  22.76K  --.-KB/s    in 0.002s  \n",
            "\n",
            "2024-05-06 06:34:59 (10.4 MB/s) - ‘t190314329.ipynb’ saved [23306/23306]\n",
            "\n"
          ]
        }
      ]
    },
    {
      "cell_type": "code",
      "source": [
        "board = {\n",
        "    2:38 , 7: 14, 8: 31, 15: 26, 16: 6, 21: 42,\n",
        "    28: 84, 36: 44, 46: 25, 49: 11, 51: 67, 62: 19,\n",
        "    64: 60, 71: 91, 74: 53, 78: 98, 87: 94, 89: 68, 92: 88, 95: 75, 99: 80\n",
        "}\n"
      ],
      "metadata": {
        "id": "yPCbmNX9uU3O"
      },
      "execution_count": 1,
      "outputs": []
    },
    {
      "cell_type": "code",
      "source": [
        "start = 1\n",
        "goal = 100\n",
        "\n",
        "def heuristic(node):\n",
        "  return 100 - node\n",
        "\n",
        "#data structures :\n",
        "\n",
        "parent = {}\n",
        "\n",
        "open_list = [(start , 0)]\n",
        "\n",
        "closed_list = set()"
      ],
      "metadata": {
        "id": "1RMe9yepueDL"
      },
      "execution_count": 2,
      "outputs": []
    },
    {
      "cell_type": "code",
      "source": [
        "while open_list :\n",
        "\n"
      ],
      "metadata": {
        "id": "UWPoKQpB3KSI"
      },
      "execution_count": null,
      "outputs": []
    }
  ]
}