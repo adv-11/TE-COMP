{
  "nbformat": 4,
  "nbformat_minor": 0,
  "metadata": {
    "colab": {
      "provenance": [],
      "authorship_tag": "ABX9TyPs9iCycjLKg9IXefCWlqn8"
    },
    "kernelspec": {
      "name": "python3",
      "display_name": "Python 3"
    },
    "language_info": {
      "name": "python"
    }
  },
  "cells": [
    {
      "cell_type": "code",
      "execution_count": null,
      "metadata": {
        "colab": {
          "base_uri": "https://localhost:8080/"
        },
        "id": "8CuAnJLfqy4s",
        "outputId": "e65d9192-d9f5-4185-ccf8-56dfc9160e44"
      },
      "outputs": [
        {
          "output_type": "stream",
          "name": "stdout",
          "text": [
            "Path found: [1, 14, 26, 84, 94, 100]\n"
          ]
        }
      ],
      "source": [
        "# Define the board with snakes and ladders\n",
        "board = {\n",
        "    2: 38, 7: 14, 8: 31, 15: 26, 16: 6, 21: 42,\n",
        "    28: 84, 36: 44, 46: 25, 49: 11, 51: 67, 62: 19,\n",
        "    64: 60, 71: 91, 74: 53, 78: 98, 87: 94, 89: 68, 92: 88, 95: 75, 99: 80\n",
        "}\n",
        "\n",
        "# Define the heuristic function (distance from goal)\n",
        "def heuristic(node):\n",
        "    return 100 - node\n",
        "\n",
        "# Define the initial state and goal state\n",
        "start = 1\n",
        "goal = 100\n",
        "\n",
        "# Initialize the open list with the start node\n",
        "open_list = [(start, 0)]\n",
        "\n",
        "# Initialize the closed list\n",
        "closed_list = set()\n",
        "\n",
        "# Initialize the parent dictionary to keep track of the path\n",
        "parent = {}\n",
        "\n",
        "# Initialize the cost dictionary to keep track of the cost to reach each node\n",
        "cost = {start: 0}\n",
        "\n",
        "# A* algorithm\n",
        "while open_list:\n",
        "    # Get the node with the lowest cost from the open list\n",
        "    current_node, current_cost = min(open_list, key=lambda x: x[1])\n",
        "    open_list.remove((current_node, current_cost))\n",
        "\n",
        "    # Check if the current node is the goal\n",
        "    if current_node == goal:\n",
        "        # Reconstruct the path\n",
        "        path = []\n",
        "        while current_node in parent:\n",
        "            path.append(current_node)\n",
        "            current_node = parent[current_node]\n",
        "        path.append(start)\n",
        "        path.reverse()\n",
        "        print(\"Path found:\", path)\n",
        "        break\n",
        "\n",
        "    # Add the current node to the closed list\n",
        "    closed_list.add(current_node)\n",
        "\n",
        "    # Expand the current node\n",
        "    for i in range(1, 7):\n",
        "        next_node = current_node + i\n",
        "        if next_node in board:\n",
        "            next_node = board[next_node]  # If there's a snake or ladder, move to its destination\n",
        "\n",
        "        # Check if the next node is valid and not in the closed list\n",
        "        if next_node <= 100 and next_node not in closed_list:\n",
        "            # Calculate the cost to reach the next node\n",
        "            next_cost = current_cost + 1\n",
        "\n",
        "            # If the next node is not in the open list or the new cost is lower than the previous cost\n",
        "            if next_node not in cost or next_cost < cost[next_node]:\n",
        "                cost[next_node] = next_cost\n",
        "                parent[next_node] = current_node\n",
        "                open_list.append((next_node, next_cost + heuristic(next_node)))\n"
      ]
    },
    {
      "cell_type": "code",
      "source": [
        "board = {\n",
        "    2:38 , 7: 14, 8: 31, 15: 26, 16: 6, 21: 42,\n",
        "    28: 84, 36: 44, 46: 25, 49: 11, 51: 67, 62: 19,\n",
        "    64: 60, 71: 91, 74: 53, 78: 98, 87: 94, 89: 68, 92: 88, 95: 75, 99: 80\n",
        "}\n",
        "\n",
        "start = 1\n",
        "goal = 100\n",
        "\n",
        "def heuristic(node):\n",
        "  return 100 - node\n",
        "\n",
        "#data structures :\n",
        "\n",
        "parent = {}\n",
        "\n",
        "open_list = [(start , 0)]\n",
        "\n",
        "closed_list = set()\n",
        "\n",
        "cost = {start: 0}\n",
        "\n",
        "\n",
        "while open_list :\n",
        "  # Get the node with the lowest cost from the open list\n",
        "  current_node , current_cost = min(open_list , key = lambda x: x[1])\n",
        "  open_list.remove ((current_node , current_cost))\n",
        "\n",
        "  #check if current node is goal node :\n",
        "\n",
        "  if current_node == goal:\n",
        "\n",
        "    #reconstruct path\n",
        "    path=[]\n",
        "    while current_node in parent:\n",
        "      path.append(current_node)\n",
        "      current_node = parent[current_node]\n",
        "    path.append(start)\n",
        "    path.reverse()\n",
        "    print('Shortest Path found ' , path)\n",
        "    break\n",
        "\n",
        "    #add current node to close list\n",
        "  closed_list.add(current_node)\n",
        "\n",
        "    #expand current node - visit all neighbours\n",
        "  for i in range (1,7):\n",
        "    next_node = current_node + i\n",
        "    if next_node in board:\n",
        "      next_node = board[next_node]\n",
        "\n",
        "    #check if next node is valid and not in closed list\n",
        "    if next_node <= 100 and next_node not in closed_list:\n",
        "      next_cost = current_cost + 1\n",
        "\n",
        "    # If the next node is not in the cost list or the new cost is lower than the previous cost\n",
        "    if next_node not in cost or next_cost < cost[next_node]:\n",
        "      cost[next_node] = next_node\n",
        "      parent[next_node] = current_node\n",
        "      open_list.append((next_node , next_cost + heuristic(next_node)))\n"
      ],
      "metadata": {
        "colab": {
          "base_uri": "https://localhost:8080/"
        },
        "id": "UWPoKQpB3KSI",
        "outputId": "3f1b5de5-8c5a-4691-e512-8e9739eb72f9"
      },
      "execution_count": 26,
      "outputs": [
        {
          "output_type": "stream",
          "name": "stdout",
          "text": [
            "Shortest Path found  [1, 14, 26, 84, 94, 100]\n"
          ]
        }
      ]
    }
  ]
}