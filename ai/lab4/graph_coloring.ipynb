{
  "nbformat": 4,
  "nbformat_minor": 0,
  "metadata": {
    "colab": {
      "provenance": [],
      "authorship_tag": "ABX9TyOTVxdAbR0OQM3e6HRcsuul"
    },
    "kernelspec": {
      "name": "python3",
      "display_name": "Python 3"
    },
    "language_info": {
      "name": "python"
    }
  },
  "cells": [
    {
      "cell_type": "code",
      "execution_count": null,
      "metadata": {
        "id": "PepyYTNxZJ0s"
      },
      "outputs": [],
      "source": [
        "#implemeneted using greedy search\n"
      ]
    },
    {
      "cell_type": "code",
      "source": [
        "class Graph:\n",
        "    def __init__(self, vertices):\n",
        "        self.V = vertices\n",
        "        self.graph = [[0 for _ in range(vertices)] for _ in range(vertices)]\n",
        "\n",
        "    def is_safe(self, v, color, c):\n",
        "        for i in range(self.V):\n",
        "            if self.graph[v][i] == 1 and color[i] == c:\n",
        "                return False\n",
        "        return True\n",
        "\n",
        "    def graph_coloring_util(self, m, color, v):\n",
        "        if v == self.V:\n",
        "            return True\n",
        "\n",
        "        for c in range(1, m + 1):\n",
        "            if self.is_safe(v, color, c):\n",
        "                color[v] = c\n",
        "                if self.graph_coloring_util(m, color, v + 1):\n",
        "                    return True\n",
        "                color[v] = 0\n",
        "\n",
        "    def graph_coloring(self, m):\n",
        "        color = [0] * self.V\n",
        "        if not self.graph_coloring_util(m, color, 0):\n",
        "            return False\n",
        "\n",
        "        print(\"Solution exists with colors:\")\n",
        "        for c in color:\n",
        "            print(c, end=\" \")\n",
        "        return True\n",
        "\n",
        "\n",
        "# Example usage:\n",
        "g = Graph(4)\n",
        "g.graph = [\n",
        "    [0, 1, 1, 1],\n",
        "    [1, 0, 1, 0],\n",
        "    [1, 1, 0, 1],\n",
        "    [1, 0, 1, 0]\n",
        "]\n",
        "m = 3  # Number of colors available\n",
        "\n",
        "if not g.graph_coloring(m):\n",
        "    print(\"No solution exists.\")\n"
      ],
      "metadata": {
        "colab": {
          "base_uri": "https://localhost:8080/"
        },
        "id": "6IeEYue7b4t1",
        "outputId": "edebe04e-0cb2-4b13-ec1f-5d0ab1b8296d"
      },
      "execution_count": 12,
      "outputs": [
        {
          "output_type": "stream",
          "name": "stdout",
          "text": [
            "Solution exists with colors:\n",
            "1 2 3 2 "
          ]
        }
      ]
    }
  ]
}