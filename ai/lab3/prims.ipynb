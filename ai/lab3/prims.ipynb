{
  "nbformat": 4,
  "nbformat_minor": 0,
  "metadata": {
    "colab": {
      "provenance": [],
      "authorship_tag": "ABX9TyOXQ+xn22FLCIe9wMJXVQiU"
    },
    "kernelspec": {
      "name": "python3",
      "display_name": "Python 3"
    },
    "language_info": {
      "name": "python"
    }
  },
  "cells": [
    {
      "cell_type": "code",
      "execution_count": null,
      "metadata": {
        "id": "PepyYTNxZJ0s"
      },
      "outputs": [],
      "source": [
        "#implemeneted using prims\n"
      ]
    },
    {
      "cell_type": "code",
      "source": [
        "import sys\n",
        "\n",
        "class Graph:\n",
        "    def __init__(self, vertices):\n",
        "        self.V = vertices\n",
        "        self.graph = [[0 for _ in range(vertices)] for _ in range(vertices)]\n",
        "\n",
        "    def add_edge(self, u, v, w):\n",
        "        self.graph[u][v] = w\n",
        "        self.graph[v][u] = w  # Graph is undirected\n",
        "\n",
        "    def min_key(self, key, mst_set):\n",
        "        min_val = sys.maxsize\n",
        "        min_index = -1\n",
        "\n",
        "        for v in range(self.V):\n",
        "            if key[v] < min_val and not mst_set[v]:\n",
        "                min_val = key[v]\n",
        "                min_index = v\n",
        "\n",
        "        return min_index\n",
        "\n",
        "    def prim_mst(self):\n",
        "        parent = [-1] * self.V\n",
        "        key = [sys.maxsize] * self.V\n",
        "        mst_set = [False] * self.V\n",
        "\n",
        "        key[0] = 0  # Starting from the first vertex\n",
        "\n",
        "        for _ in range(self.V - 1):\n",
        "            u = self.min_key(key, mst_set)\n",
        "            mst_set[u] = True\n",
        "\n",
        "            for v in range(self.V):\n",
        "                if self.graph[u][v] > 0 and not mst_set[v] and key[v] > self.graph[u][v]:\n",
        "                    key[v] = self.graph[u][v]\n",
        "                    parent[v] = u\n",
        "\n",
        "        return parent\n",
        "\n",
        "\n",
        "# Example usage:\n",
        "g = Graph(5)\n",
        "g.add_edge(0, 1, 2)\n",
        "g.add_edge(0, 3, 6)\n",
        "g.add_edge(1, 2, 3)\n",
        "g.add_edge(1, 3, 8)\n",
        "g.add_edge(1, 4, 5)\n",
        "g.add_edge(2, 4, 7)\n",
        "g.add_edge(3, 4, 9)\n",
        "\n",
        "parent = g.prim_mst()\n",
        "\n",
        "print(\"Edge \\tWeight\")\n",
        "for i in range(1, g.V):\n",
        "    print(f\"{parent[i]} - {i}\\t{g.graph[i][parent[i]]}\")\n"
      ],
      "metadata": {
        "colab": {
          "base_uri": "https://localhost:8080/"
        },
        "id": "6IeEYue7b4t1",
        "outputId": "016cceca-34cf-402d-cc2c-a41a7b90fd6e"
      },
      "execution_count": 8,
      "outputs": [
        {
          "output_type": "stream",
          "name": "stdout",
          "text": [
            "Edge \tWeight\n",
            "0 - 1\t2\n",
            "1 - 2\t3\n",
            "0 - 3\t6\n",
            "1 - 4\t5\n"
          ]
        }
      ]
    }
  ]
}