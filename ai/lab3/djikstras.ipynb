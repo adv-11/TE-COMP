{
  "nbformat": 4,
  "nbformat_minor": 0,
  "metadata": {
    "colab": {
      "provenance": [],
      "authorship_tag": "ABX9TyPXg7+7tF2/YVQ2SNj2/BpZ"
    },
    "kernelspec": {
      "name": "python3",
      "display_name": "Python 3"
    },
    "language_info": {
      "name": "python"
    }
  },
  "cells": [
    {
      "cell_type": "code",
      "execution_count": null,
      "metadata": {
        "id": "PepyYTNxZJ0s"
      },
      "outputs": [],
      "source": [
        "#implemeneted using djikstras\n"
      ]
    },
    {
      "cell_type": "code",
      "source": [
        "import sys\n",
        "\n",
        "class Graph:\n",
        "    def __init__(self, vertices):\n",
        "        self.V = vertices\n",
        "        self.graph = [[0] * vertices for _ in range(vertices)]\n",
        "\n",
        "    def add_edge(self, u, v, w):\n",
        "        self.graph[u][v] = w\n",
        "        self.graph[v][u] = w  # Graph is undirected\n",
        "\n",
        "    def min_distance(self, dist, spt_set):\n",
        "        min_val = sys.maxsize\n",
        "        min_index = -1\n",
        "\n",
        "        for v in range(self.V):\n",
        "            if dist[v] < min_val and not spt_set[v]:\n",
        "                min_val = dist[v]\n",
        "                min_index = v\n",
        "\n",
        "        return min_index\n",
        "\n",
        "    def dijkstra(self, src):\n",
        "        dist = [sys.maxsize] * self.V\n",
        "        dist[src] = 0\n",
        "        spt_set = [False] * self.V\n",
        "\n",
        "        for _ in range(self.V):\n",
        "            u = self.min_distance(dist, spt_set)\n",
        "            spt_set[u] = True\n",
        "\n",
        "            for v in range(self.V):\n",
        "                if self.graph[u][v] > 0 and not spt_set[v] and dist[v] > dist[u] + self.graph[u][v]:\n",
        "                    dist[v] = dist[u] + self.graph[u][v]\n",
        "\n",
        "        return dist\n",
        "\n",
        "\n",
        "# Example usage:\n",
        "g = Graph(9)\n",
        "g.add_edge(0, 1, 4)\n",
        "g.add_edge(0, 7, 8)\n",
        "g.add_edge(1, 2, 8)\n",
        "g.add_edge(1, 7, 11)\n",
        "g.add_edge(2, 3, 7)\n",
        "g.add_edge(2, 8, 2)\n",
        "g.add_edge(2, 5, 4)\n",
        "g.add_edge(3, 4, 9)\n",
        "g.add_edge(3, 5, 14)\n",
        "g.add_edge(4, 5, 10)\n",
        "g.add_edge(5, 6, 2)\n",
        "g.add_edge(6, 7, 1)\n",
        "g.add_edge(6, 8, 6)\n",
        "g.add_edge(7, 8, 7)\n",
        "\n",
        "src = 0\n",
        "distances = g.dijkstra(src)\n",
        "\n",
        "print(\"Shortest distances from source vertex:\")\n",
        "for i, dist in enumerate(distances):\n",
        "    print(f\"Vertex {i}: {dist}\")\n"
      ],
      "metadata": {
        "colab": {
          "base_uri": "https://localhost:8080/"
        },
        "id": "6IeEYue7b4t1",
        "outputId": "65e275e6-30cb-4aeb-a294-7b6abb8fe67d"
      },
      "execution_count": 9,
      "outputs": [
        {
          "output_type": "stream",
          "name": "stdout",
          "text": [
            "Shortest distances from source vertex:\n",
            "Vertex 0: 0\n",
            "Vertex 1: 4\n",
            "Vertex 2: 12\n",
            "Vertex 3: 19\n",
            "Vertex 4: 21\n",
            "Vertex 5: 11\n",
            "Vertex 6: 9\n",
            "Vertex 7: 8\n",
            "Vertex 8: 14\n"
          ]
        }
      ]
    }
  ]
}