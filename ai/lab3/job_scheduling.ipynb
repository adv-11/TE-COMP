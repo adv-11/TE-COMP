{
  "nbformat": 4,
  "nbformat_minor": 0,
  "metadata": {
    "colab": {
      "provenance": [],
      "authorship_tag": "ABX9TyOQ9BKVVrCI0J9ymru7d24q"
    },
    "kernelspec": {
      "name": "python3",
      "display_name": "Python 3"
    },
    "language_info": {
      "name": "python"
    }
  },
  "cells": [
    {
      "cell_type": "code",
      "execution_count": null,
      "metadata": {
        "id": "PepyYTNxZJ0s"
      },
      "outputs": [],
      "source": [
        "#implemeneted using greedy search\n"
      ]
    },
    {
      "cell_type": "code",
      "source": [
        "def job_scheduling(jobs):\n",
        "    # Sort jobs based on their finish times\n",
        "    jobs.sort(key=lambda x: x[1])\n",
        "\n",
        "    # Initialize variables\n",
        "    scheduled_jobs = []\n",
        "    last_finish_time = 0\n",
        "\n",
        "    # Iterate through sorted jobs\n",
        "    for job in jobs:\n",
        "        start_time, finish_time = job\n",
        "        if start_time >= last_finish_time:\n",
        "            scheduled_jobs.append(job)\n",
        "            last_finish_time = finish_time\n",
        "\n",
        "    return scheduled_jobs\n",
        "\n",
        "# Example usage:\n",
        "jobs = [(1, 3), (2, 5), (4, 7), (6, 9), (8, 10)]\n",
        "scheduled_jobs = job_scheduling(jobs)\n",
        "print(\"Scheduled Jobs:\", scheduled_jobs)\n",
        "print(\"Number of scheduled jobs:\", len(scheduled_jobs))\n"
      ],
      "metadata": {
        "colab": {
          "base_uri": "https://localhost:8080/"
        },
        "id": "6IeEYue7b4t1",
        "outputId": "97fab0e4-2ecb-4d07-dd8a-6ba72c39146e"
      },
      "execution_count": 11,
      "outputs": [
        {
          "output_type": "stream",
          "name": "stdout",
          "text": [
            "Scheduled Jobs: [(1, 3), (4, 7), (8, 10)]\n",
            "Number of scheduled jobs: 3\n"
          ]
        }
      ]
    }
  ]
}